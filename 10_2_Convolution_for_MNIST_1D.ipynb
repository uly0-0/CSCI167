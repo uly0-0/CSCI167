{
  "cells": [
    {
      "cell_type": "markdown",
      "metadata": {
        "colab_type": "text",
        "id": "view-in-github"
      },
      "source": [
        "<a href=\"https://colab.research.google.com/github/udlbook/udlbook/blob/main/Notebooks/Chap10/10_2_Convolution_for_MNIST_1D.ipynb\" target=\"_parent\"><img src=\"https://colab.research.google.com/assets/colab-badge.svg\" alt=\"Open In Colab\"/></a>"
      ]
    },
    {
      "cell_type": "markdown",
      "metadata": {
        "id": "t9vk9Elugvmi"
      },
      "source": [
        "# **Notebook 10.2: Convolution for MNIST-1D**\n",
        "\n",
        "This notebook investigates a 1D convolutional network for MNIST-1D as in figure 10.7 and 10.8a.\n",
        "\n",
        "Work through the cells below, running each cell in turn. In various places you will see the words \"TO DO\". Follow the instructions at these places and make predictions about what is going to happen or write code to complete the functions.\n",
        "\n",
        "Contact me at udlbookmail@gmail.com if you find any mistakes or have any suggestions.\n",
        "\n"
      ]
    },
    {
      "cell_type": "code",
      "execution_count": 1,
      "metadata": {
        "id": "D5yLObtZCi9J"
      },
      "outputs": [
        {
          "name": "stdout",
          "output_type": "stream",
          "text": [
            "Collecting git+https://github.com/greydanus/mnist1d\n",
            "  Cloning https://github.com/greydanus/mnist1d to c:\\users\\ulyss\\appdata\\local\\temp\\pip-req-build-sggn9mlk\n",
            "  Resolved https://github.com/greydanus/mnist1d to commit 7878d96082abd200c546a07a4101fa90b30fdf7e\n",
            "  Installing build dependencies: started\n",
            "  Installing build dependencies: finished with status 'done'\n",
            "  Getting requirements to build wheel: started\n",
            "  Getting requirements to build wheel: finished with status 'done'\n",
            "  Preparing metadata (pyproject.toml): started\n",
            "  Preparing metadata (pyproject.toml): finished with status 'done'\n",
            "Requirement already satisfied: requests in c:\\users\\ulyss\\anaconda3\\envs\\tensorflow\\lib\\site-packages (from mnist1d==0.0.2.post16) (2.31.0)\n",
            "Requirement already satisfied: numpy in c:\\users\\ulyss\\anaconda3\\envs\\tensorflow\\lib\\site-packages (from mnist1d==0.0.2.post16) (1.26.4)\n",
            "Requirement already satisfied: matplotlib in c:\\users\\ulyss\\anaconda3\\envs\\tensorflow\\lib\\site-packages (from mnist1d==0.0.2.post16) (3.9.2)\n",
            "Requirement already satisfied: scipy in c:\\users\\ulyss\\anaconda3\\envs\\tensorflow\\lib\\site-packages (from mnist1d==0.0.2.post16) (1.14.1)\n",
            "Requirement already satisfied: contourpy>=1.0.1 in c:\\users\\ulyss\\anaconda3\\envs\\tensorflow\\lib\\site-packages (from matplotlib->mnist1d==0.0.2.post16) (1.2.0)\n",
            "Requirement already satisfied: cycler>=0.10 in c:\\users\\ulyss\\anaconda3\\envs\\tensorflow\\lib\\site-packages (from matplotlib->mnist1d==0.0.2.post16) (0.11.0)\n",
            "Requirement already satisfied: fonttools>=4.22.0 in c:\\users\\ulyss\\anaconda3\\envs\\tensorflow\\lib\\site-packages (from matplotlib->mnist1d==0.0.2.post16) (4.51.0)\n",
            "Requirement already satisfied: kiwisolver>=1.3.1 in c:\\users\\ulyss\\anaconda3\\envs\\tensorflow\\lib\\site-packages (from matplotlib->mnist1d==0.0.2.post16) (1.4.4)\n",
            "Requirement already satisfied: packaging>=20.0 in c:\\users\\ulyss\\anaconda3\\envs\\tensorflow\\lib\\site-packages (from matplotlib->mnist1d==0.0.2.post16) (24.0)\n",
            "Requirement already satisfied: pillow>=8 in c:\\users\\ulyss\\anaconda3\\envs\\tensorflow\\lib\\site-packages (from matplotlib->mnist1d==0.0.2.post16) (10.4.0)\n",
            "Requirement already satisfied: pyparsing>=2.3.1 in c:\\users\\ulyss\\anaconda3\\envs\\tensorflow\\lib\\site-packages (from matplotlib->mnist1d==0.0.2.post16) (3.1.2)\n",
            "Requirement already satisfied: python-dateutil>=2.7 in c:\\users\\ulyss\\anaconda3\\envs\\tensorflow\\lib\\site-packages (from matplotlib->mnist1d==0.0.2.post16) (2.9.0)\n",
            "Requirement already satisfied: charset-normalizer<4,>=2 in c:\\users\\ulyss\\anaconda3\\envs\\tensorflow\\lib\\site-packages (from requests->mnist1d==0.0.2.post16) (3.3.2)\n",
            "Requirement already satisfied: idna<4,>=2.5 in c:\\users\\ulyss\\anaconda3\\envs\\tensorflow\\lib\\site-packages (from requests->mnist1d==0.0.2.post16) (3.6)\n",
            "Requirement already satisfied: urllib3<3,>=1.21.1 in c:\\users\\ulyss\\anaconda3\\envs\\tensorflow\\lib\\site-packages (from requests->mnist1d==0.0.2.post16) (2.2.1)\n",
            "Requirement already satisfied: certifi>=2017.4.17 in c:\\users\\ulyss\\anaconda3\\envs\\tensorflow\\lib\\site-packages (from requests->mnist1d==0.0.2.post16) (2024.2.2)\n",
            "Requirement already satisfied: six>=1.5 in c:\\users\\ulyss\\anaconda3\\envs\\tensorflow\\lib\\site-packages (from python-dateutil>=2.7->matplotlib->mnist1d==0.0.2.post16) (1.16.0)\n"
          ]
        },
        {
          "name": "stderr",
          "output_type": "stream",
          "text": [
            "  Running command git clone --filter=blob:none --quiet https://github.com/greydanus/mnist1d 'C:\\Users\\ulyss\\AppData\\Local\\Temp\\pip-req-build-sggn9mlk'\n",
            "\n",
            "[notice] A new release of pip is available: 24.0 -> 24.3.1\n",
            "[notice] To update, run: python.exe -m pip install --upgrade pip\n"
          ]
        }
      ],
      "source": [
        "# Run this if you're in a Colab to install MNIST 1D repository\n",
        "!pip install git+https://github.com/greydanus/mnist1d"
      ]
    },
    {
      "cell_type": "code",
      "execution_count": 2,
      "metadata": {
        "id": "YrXWAH7sUWvU"
      },
      "outputs": [],
      "source": [
        "import numpy as np\n",
        "import os\n",
        "import torch, torch.nn as nn\n",
        "from torch.utils.data import TensorDataset, DataLoader\n",
        "from torch.optim.lr_scheduler import StepLR\n",
        "import matplotlib.pyplot as plt\n",
        "import mnist1d\n",
        "import random"
      ]
    },
    {
      "cell_type": "code",
      "execution_count": 4,
      "metadata": {
        "id": "twI72ZCrCt5z"
      },
      "outputs": [
        {
          "name": "stdout",
          "output_type": "stream",
          "text": [
            "Successfully loaded data from ./mnist1d_data.pkl\n",
            "Examples in training set: 4000\n",
            "Examples in test set: 1000\n",
            "Length of each example: 40\n"
          ]
        }
      ],
      "source": [
        "args = mnist1d.data.get_dataset_args()\n",
        "data = mnist1d.data.get_dataset(args, path='./mnist1d_data.pkl', download=False, regenerate=False)\n",
        "\n",
        "# The training and test input and outputs are in\n",
        "# data['x'], data['y'], data['x_test'], and data['y_test']\n",
        "print(\"Examples in training set: {}\".format(len(data['y'])))\n",
        "print(\"Examples in test set: {}\".format(len(data['y_test'])))\n",
        "print(\"Length of each example: {}\".format(data['x'].shape[-1]))"
      ]
    },
    {
      "cell_type": "code",
      "execution_count": 5,
      "metadata": {
        "id": "8bKADvLHbiV5"
      },
      "outputs": [
        {
          "name": "stdout",
          "output_type": "stream",
          "text": [
            "Train data: 4000 examples (columns), each of which has 40 dimensions (rows)\n",
            "Validation data: 1000 examples (columns), each of which has 40 dimensions (rows)\n"
          ]
        }
      ],
      "source": [
        "# Load in the data\n",
        "train_data_x = data['x'].transpose()\n",
        "train_data_y = data['y']\n",
        "val_data_x = data['x_test'].transpose()\n",
        "val_data_y = data['y_test']\n",
        "# Print out sizes\n",
        "print(\"Train data: %d examples (columns), each of which has %d dimensions (rows)\"%((train_data_x.shape[1],train_data_x.shape[0])))\n",
        "print(\"Validation data: %d examples (columns), each of which has %d dimensions (rows)\"%((val_data_x.shape[1],val_data_x.shape[0])))"
      ]
    },
    {
      "cell_type": "markdown",
      "metadata": {
        "id": "_sFvRDGrl4qe"
      },
      "source": [
        "Define the network"
      ]
    },
    {
      "cell_type": "code",
      "execution_count": 7,
      "metadata": {
        "id": "FslroPJJffrh"
      },
      "outputs": [],
      "source": [
        "# There are 40 input dimensions and 10 output dimensions for this data\n",
        "# The inputs correspond to the 40 offsets in the MNIST1D template.\n",
        "D_i = 40\n",
        "# The outputs correspond to the 10 digits\n",
        "D_o = 10\n",
        "\n",
        "\n",
        "# TODO Create a model with the following layers\n",
        "# 1. Convolutional layer, (input=length 40 and 1 channel, kernel size 3, stride 2, padding=\"valid\", 15 output channels )\n",
        "# 2. ReLU\n",
        "# 3. Convolutional layer, (input=length 19 and 15 channels, kernel size 3, stride 2, padding=\"valid\", 15 output channels )\n",
        "# 4. ReLU\n",
        "# 5. Convolutional layer, (input=length 9 and 15 channels, kernel size 3, stride 2, padding=\"valid\", 15 output channels)\n",
        "# 6. ReLU\n",
        "# 7. Flatten (converts 4x15) to length 60\n",
        "# 8. Linear layer (input size = 60, output size = 10)\n",
        "# References:\n",
        "# https://pytorch.org/docs/1.13/generated/torch.nn.Conv1d.html?highlight=conv1d#torch.nn.Conv1d\n",
        "# https://pytorch.org/docs/stable/generated/torch.nn.Flatten.html\n",
        "# https://pytorch.org/docs/1.13/generated/torch.nn.Linear.html?highlight=linear#torch.nn.Linear\n",
        "\n",
        "# NOTE THAT THE CONVOLUTIONAL LAYERS NEED TO TAKE THE NUMBER OF INPUT CHANNELS AS A PARAMETER\n",
        "# AND NOT THE INPUT SIZE.\n",
        "\n",
        "# Replace the following function:\n",
        "model = nn.Sequential(\n",
        "    nn.Conv1d(in_channels=1,out_channels= 15, kernel_size=3, stride=2, padding='valid'),\n",
        "    nn.ReLU(),\n",
        "    nn.Conv1d(in_channels=15,out_channels= 15, kernel_size=3, stride=2, padding='valid'),\n",
        "    nn.ReLU(),\n",
        "    nn.Conv1d(in_channels=15,out_channels= 15, kernel_size=3, stride=2, padding='valid'),\n",
        "    nn.ReLU(),\n",
        "    nn.Flatten(),\n",
        "    nn.Linear(in_features=60, out_features=10)\n",
        ")\n",
        "\n"
      ]
    },
    {
      "cell_type": "code",
      "execution_count": 8,
      "metadata": {
        "id": "YgLaex1pfhqz"
      },
      "outputs": [],
      "source": [
        "# He initialization of weights\n",
        "def weights_init(layer_in):\n",
        "  if isinstance(layer_in, nn.Linear):\n",
        "    nn.init.kaiming_uniform_(layer_in.weight)\n",
        "    layer_in.bias.data.fill_(0.0)"
      ]
    },
    {
      "cell_type": "code",
      "execution_count": 9,
      "metadata": {
        "id": "NYw8I_3mmX5c"
      },
      "outputs": [
        {
          "name": "stdout",
          "output_type": "stream",
          "text": [
            "Epoch     0, train loss 2.092355, train error 78.90,  val loss 2.111603, percent error 81.60\n",
            "Epoch     1, train loss 1.579858, train error 62.75,  val loss 1.627066, percent error 64.50\n",
            "Epoch     2, train loss 1.382437, train error 55.08,  val loss 1.413943, percent error 59.10\n",
            "Epoch     3, train loss 1.315129, train error 52.15,  val loss 1.341944, percent error 56.10\n",
            "Epoch     4, train loss 1.236362, train error 50.97,  val loss 1.267358, percent error 54.20\n",
            "Epoch     5, train loss 1.137635, train error 46.12,  val loss 1.164606, percent error 48.60\n",
            "Epoch     6, train loss 1.096185, train error 43.83,  val loss 1.148291, percent error 47.00\n",
            "Epoch     7, train loss 1.090466, train error 42.45,  val loss 1.154184, percent error 46.30\n",
            "Epoch     8, train loss 0.974644, train error 38.40,  val loss 1.010036, percent error 42.40\n",
            "Epoch     9, train loss 0.864069, train error 33.32,  val loss 0.917996, percent error 35.00\n",
            "Epoch    10, train loss 0.797234, train error 30.40,  val loss 0.862572, percent error 33.10\n",
            "Epoch    11, train loss 0.781875, train error 30.80,  val loss 0.853264, percent error 33.30\n",
            "Epoch    12, train loss 0.674251, train error 26.38,  val loss 0.741015, percent error 29.30\n",
            "Epoch    13, train loss 0.605190, train error 23.28,  val loss 0.679290, percent error 26.00\n",
            "Epoch    14, train loss 0.630940, train error 25.05,  val loss 0.701873, percent error 28.10\n",
            "Epoch    15, train loss 0.669792, train error 25.55,  val loss 0.763833, percent error 28.10\n",
            "Epoch    16, train loss 0.557879, train error 21.88,  val loss 0.659222, percent error 25.00\n",
            "Epoch    17, train loss 0.551196, train error 20.75,  val loss 0.658538, percent error 24.60\n",
            "Epoch    18, train loss 0.483414, train error 17.47,  val loss 0.577783, percent error 22.10\n",
            "Epoch    19, train loss 0.463530, train error 17.57,  val loss 0.586503, percent error 21.70\n",
            "Epoch    20, train loss 0.370602, train error 13.07,  val loss 0.493562, percent error 17.00\n",
            "Epoch    21, train loss 0.375861, train error 13.57,  val loss 0.517292, percent error 19.50\n",
            "Epoch    22, train loss 0.336069, train error 11.80,  val loss 0.482638, percent error 17.00\n",
            "Epoch    23, train loss 0.313799, train error 10.75,  val loss 0.471541, percent error 16.30\n",
            "Epoch    24, train loss 0.307230, train error 10.85,  val loss 0.471634, percent error 16.70\n",
            "Epoch    25, train loss 0.289989, train error 9.93,  val loss 0.451451, percent error 15.20\n",
            "Epoch    26, train loss 0.278870, train error 9.53,  val loss 0.459573, percent error 16.00\n",
            "Epoch    27, train loss 0.270005, train error 9.20,  val loss 0.450611, percent error 15.30\n",
            "Epoch    28, train loss 0.241945, train error 7.82,  val loss 0.440036, percent error 15.40\n",
            "Epoch    29, train loss 0.316548, train error 11.10,  val loss 0.510633, percent error 16.50\n",
            "Epoch    30, train loss 0.232216, train error 7.97,  val loss 0.433627, percent error 14.10\n",
            "Epoch    31, train loss 0.240947, train error 8.20,  val loss 0.433261, percent error 14.00\n",
            "Epoch    32, train loss 0.228703, train error 7.55,  val loss 0.412659, percent error 13.40\n",
            "Epoch    33, train loss 0.231204, train error 7.90,  val loss 0.476110, percent error 15.00\n",
            "Epoch    34, train loss 0.228680, train error 8.43,  val loss 0.424550, percent error 13.70\n",
            "Epoch    35, train loss 0.198329, train error 6.60,  val loss 0.433989, percent error 14.30\n",
            "Epoch    36, train loss 0.172066, train error 5.70,  val loss 0.419202, percent error 12.60\n",
            "Epoch    37, train loss 0.212138, train error 7.90,  val loss 0.471655, percent error 14.20\n",
            "Epoch    38, train loss 0.199710, train error 7.35,  val loss 0.408785, percent error 12.50\n",
            "Epoch    39, train loss 0.157320, train error 5.38,  val loss 0.418064, percent error 12.90\n",
            "Epoch    40, train loss 0.132204, train error 4.32,  val loss 0.391763, percent error 12.20\n",
            "Epoch    41, train loss 0.137898, train error 4.62,  val loss 0.429373, percent error 13.50\n",
            "Epoch    42, train loss 0.130325, train error 4.15,  val loss 0.399864, percent error 12.80\n",
            "Epoch    43, train loss 0.125599, train error 4.10,  val loss 0.411935, percent error 12.60\n",
            "Epoch    44, train loss 0.126108, train error 4.07,  val loss 0.422235, percent error 13.60\n",
            "Epoch    45, train loss 0.125531, train error 3.68,  val loss 0.425024, percent error 12.60\n",
            "Epoch    46, train loss 0.112784, train error 3.60,  val loss 0.424615, percent error 12.40\n",
            "Epoch    47, train loss 0.120172, train error 4.05,  val loss 0.436225, percent error 12.50\n",
            "Epoch    48, train loss 0.112998, train error 3.65,  val loss 0.418810, percent error 12.60\n",
            "Epoch    49, train loss 0.112078, train error 3.60,  val loss 0.421315, percent error 13.00\n",
            "Epoch    50, train loss 0.107123, train error 3.30,  val loss 0.426724, percent error 12.90\n",
            "Epoch    51, train loss 0.139597, train error 4.97,  val loss 0.474845, percent error 14.80\n",
            "Epoch    52, train loss 0.102558, train error 3.30,  val loss 0.413451, percent error 12.10\n",
            "Epoch    53, train loss 0.101128, train error 3.07,  val loss 0.418200, percent error 11.70\n",
            "Epoch    54, train loss 0.108547, train error 3.25,  val loss 0.459099, percent error 12.40\n",
            "Epoch    55, train loss 0.106121, train error 3.60,  val loss 0.463141, percent error 13.10\n",
            "Epoch    56, train loss 0.091666, train error 2.80,  val loss 0.429662, percent error 12.60\n",
            "Epoch    57, train loss 0.105178, train error 3.78,  val loss 0.464856, percent error 13.40\n",
            "Epoch    58, train loss 0.104534, train error 3.47,  val loss 0.443933, percent error 12.90\n",
            "Epoch    59, train loss 0.084027, train error 2.35,  val loss 0.447560, percent error 12.60\n",
            "Epoch    60, train loss 0.080040, train error 2.20,  val loss 0.433319, percent error 11.80\n",
            "Epoch    61, train loss 0.085252, train error 2.53,  val loss 0.445662, percent error 12.70\n",
            "Epoch    62, train loss 0.078108, train error 2.28,  val loss 0.439027, percent error 12.20\n",
            "Epoch    63, train loss 0.075233, train error 2.00,  val loss 0.443487, percent error 12.30\n",
            "Epoch    64, train loss 0.075442, train error 2.15,  val loss 0.441294, percent error 12.10\n",
            "Epoch    65, train loss 0.075070, train error 2.00,  val loss 0.455499, percent error 12.70\n",
            "Epoch    66, train loss 0.072971, train error 2.12,  val loss 0.450060, percent error 12.50\n",
            "Epoch    67, train loss 0.074790, train error 2.15,  val loss 0.465225, percent error 12.90\n",
            "Epoch    68, train loss 0.072072, train error 1.85,  val loss 0.453915, percent error 12.70\n",
            "Epoch    69, train loss 0.072912, train error 2.03,  val loss 0.467394, percent error 13.00\n",
            "Epoch    70, train loss 0.069033, train error 1.70,  val loss 0.453970, percent error 12.30\n",
            "Epoch    71, train loss 0.070937, train error 1.88,  val loss 0.450434, percent error 12.10\n",
            "Epoch    72, train loss 0.068853, train error 1.85,  val loss 0.468473, percent error 12.50\n",
            "Epoch    73, train loss 0.070510, train error 1.93,  val loss 0.471714, percent error 12.70\n",
            "Epoch    74, train loss 0.067764, train error 1.65,  val loss 0.470597, percent error 12.70\n",
            "Epoch    75, train loss 0.065353, train error 1.60,  val loss 0.464986, percent error 12.20\n",
            "Epoch    76, train loss 0.066068, train error 1.80,  val loss 0.474916, percent error 12.90\n",
            "Epoch    77, train loss 0.068469, train error 1.82,  val loss 0.481181, percent error 12.30\n",
            "Epoch    78, train loss 0.065408, train error 1.68,  val loss 0.462624, percent error 11.70\n",
            "Epoch    79, train loss 0.064229, train error 1.53,  val loss 0.466809, percent error 12.50\n",
            "Epoch    80, train loss 0.061336, train error 1.40,  val loss 0.474921, percent error 12.20\n",
            "Epoch    81, train loss 0.060488, train error 1.45,  val loss 0.470296, percent error 12.00\n",
            "Epoch    82, train loss 0.060298, train error 1.40,  val loss 0.473534, percent error 12.00\n",
            "Epoch    83, train loss 0.059851, train error 1.47,  val loss 0.476380, percent error 12.50\n",
            "Epoch    84, train loss 0.059122, train error 1.22,  val loss 0.475770, percent error 12.40\n",
            "Epoch    85, train loss 0.060068, train error 1.32,  val loss 0.481130, percent error 11.80\n",
            "Epoch    86, train loss 0.059186, train error 1.32,  val loss 0.481267, percent error 12.30\n",
            "Epoch    87, train loss 0.060461, train error 1.55,  val loss 0.485969, percent error 12.50\n",
            "Epoch    88, train loss 0.059850, train error 1.45,  val loss 0.484513, percent error 12.50\n",
            "Epoch    89, train loss 0.057907, train error 1.35,  val loss 0.479261, percent error 12.40\n",
            "Epoch    90, train loss 0.057780, train error 1.35,  val loss 0.486572, percent error 12.50\n",
            "Epoch    91, train loss 0.057433, train error 1.28,  val loss 0.486001, percent error 12.20\n",
            "Epoch    92, train loss 0.056879, train error 1.25,  val loss 0.481339, percent error 11.90\n",
            "Epoch    93, train loss 0.055784, train error 1.22,  val loss 0.485584, percent error 11.90\n",
            "Epoch    94, train loss 0.056390, train error 1.20,  val loss 0.487720, percent error 12.00\n",
            "Epoch    95, train loss 0.055340, train error 1.20,  val loss 0.486021, percent error 12.20\n",
            "Epoch    96, train loss 0.055011, train error 1.18,  val loss 0.487378, percent error 12.50\n",
            "Epoch    97, train loss 0.054597, train error 1.18,  val loss 0.488855, percent error 11.90\n",
            "Epoch    98, train loss 0.055534, train error 1.25,  val loss 0.487151, percent error 12.30\n",
            "Epoch    99, train loss 0.055389, train error 1.15,  val loss 0.486165, percent error 12.10\n"
          ]
        },
        {
          "data": {
            "image/png": "[encoded data removed]",
            "text/plain": [
              "<Figure size 640x480 with 1 Axes>"
            ]
          },
          "metadata": {},
          "output_type": "display_data"
        }
      ],
      "source": [
        "# choose cross entropy loss function (equation 5.24 in the loss notes)\n",
        "loss_function = nn.CrossEntropyLoss()\n",
        "# construct SGD optimizer and initialize learning rate and momentum\n",
        "optimizer = torch.optim.SGD(model.parameters(), lr = 0.05, momentum=0.9)\n",
        "# object that decreases learning rate by half every 20 epochs\n",
        "scheduler = StepLR(optimizer, step_size=20, gamma=0.5)\n",
        "# create 100 dummy data points and store in data loader class\n",
        "x_train = torch.tensor(train_data_x.transpose().astype('float32'))\n",
        "y_train = torch.tensor(train_data_y.astype('long')).long()\n",
        "x_val= torch.tensor(val_data_x.transpose().astype('float32'))\n",
        "y_val = torch.tensor(val_data_y.astype('long')).long()\n",
        "\n",
        "# load the data into a class that creates the batches\n",
        "data_loader = DataLoader(TensorDataset(x_train,y_train), batch_size=100, shuffle=True, worker_init_fn=np.random.seed(1))\n",
        "\n",
        "# Initialize model weights\n",
        "model.apply(weights_init)\n",
        "\n",
        "# loop over the dataset n_epoch times\n",
        "n_epoch = 100\n",
        "# store the loss and the % correct at each epoch\n",
        "losses_train = np.zeros((n_epoch))\n",
        "errors_train = np.zeros((n_epoch))\n",
        "losses_val = np.zeros((n_epoch))\n",
        "errors_val = np.zeros((n_epoch))\n",
        "\n",
        "for epoch in range(n_epoch):\n",
        "  # loop over batches\n",
        "  for i, data in enumerate(data_loader):\n",
        "    # retrieve inputs and labels for this batch\n",
        "    x_batch, y_batch = data\n",
        "    # zero the parameter gradients\n",
        "    optimizer.zero_grad()\n",
        "    # forward pass -- calculate model output\n",
        "    pred = model(x_batch[:,None,:])\n",
        "    # compute the loss\n",
        "    loss = loss_function(pred, y_batch)\n",
        "    # backward pass\n",
        "    loss.backward()\n",
        "    # SGD update\n",
        "    optimizer.step()\n",
        "\n",
        "  # Run whole dataset to get statistics -- normally wouldn't do this\n",
        "  pred_train = model(x_train[:,None,:])\n",
        "  pred_val = model(x_val[:,None,:])\n",
        "  _, predicted_train_class = torch.max(pred_train.data, 1)\n",
        "  _, predicted_val_class = torch.max(pred_val.data, 1)\n",
        "  errors_train[epoch] = 100 - 100 * (predicted_train_class == y_train).float().sum() / len(y_train)\n",
        "  errors_val[epoch]= 100 - 100 * (predicted_val_class == y_val).float().sum() / len(y_val)\n",
        "  losses_train[epoch] = loss_function(pred_train, y_train).item()\n",
        "  losses_val[epoch]= loss_function(pred_val, y_val).item()\n",
        "  print(f'Epoch {epoch:5d}, train loss {losses_train[epoch]:.6f}, train error {errors_train[epoch]:3.2f},  val loss {losses_val[epoch]:.6f}, percent error {errors_val[epoch]:3.2f}')\n",
        "\n",
        "  # tell scheduler to consider updating learning rate\n",
        "  scheduler.step()\n",
        "\n",
        "# Plot the results\n",
        "fig, ax = plt.subplots()\n",
        "ax.plot(errors_train,'r-',label='train')\n",
        "ax.plot(errors_val,'b-',label='validation')\n",
        "ax.set_ylim(0,100); ax.set_xlim(0,n_epoch)\n",
        "ax.set_xlabel('Epoch'); ax.set_ylabel('Error')\n",
        "ax.set_title('Part I: Validation Result %3.2f'%(errors_val[-1]))\n",
        "ax.legend()\n",
        "plt.show()"
      ]
    }
  ],
  "metadata": {
    "colab": {
      "authorship_tag": "ABX9TyNb46PJB/CC1pcHGfjpUUZg",
      "include_colab_link": true,
      "provenance": []
    },
    "kernelspec": {
      "display_name": "Python 3",
      "name": "python3"
    },
    "language_info": {
      "codemirror_mode": {
        "name": "ipython",
        "version": 3
      },
      "file_extension": ".py",
      "mimetype": "text/x-python",
      "name": "python",
      "nbconvert_exporter": "python",
      "pygments_lexer": "ipython3",
      "version": "3.11.7"
    }
  },
  "nbformat": 4,
  "nbformat_minor": 0
}
